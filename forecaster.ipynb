{
 "metadata": {
  "language_info": {
   "codemirror_mode": {
    "name": "ipython",
    "version": 3
   },
   "file_extension": ".py",
   "mimetype": "text/x-python",
   "name": "python",
   "nbconvert_exporter": "python",
   "pygments_lexer": "ipython3",
   "version": "3.8.5"
  },
  "orig_nbformat": 2,
  "kernelspec": {
   "name": "python385jvsc74a57bd0916dbcbb3f70747c44a77c7bcd40155683ae19c65e1c03b4aa3499c5328201f1",
   "display_name": "Python 3.8.5 64-bit"
  },
  "metadata": {
   "interpreter": {
    "hash": "916dbcbb3f70747c44a77c7bcd40155683ae19c65e1c03b4aa3499c5328201f1"
   }
  }
 },
 "nbformat": 4,
 "nbformat_minor": 2,
 "cells": [
  {
   "cell_type": "code",
   "execution_count": 3,
   "metadata": {},
   "outputs": [],
   "source": [
    "import numpy as np\n",
    "from data_loader import *\n",
    "import pandas as pd\n",
    "from prophet import Prophet\n",
    "import matplotlib.pyplot as pyplot\n",
    "from sklearn.metrics import mean_absolute_error\n",
    "from prophet.diagnostics import cross_validation\n",
    "import itertools\n",
    "from prophet.diagnostics import performance_metrics"
   ]
  },
  {
   "source": [
    "df_original = pd.read_csv(\"data/MSFT.csv\")\n",
    "df_original['Date'] = pd.to_datetime(df_original.Date, format='%Y-%m-%d')\n",
    "print(df_original.head())"
   ],
   "cell_type": "code",
   "metadata": {},
   "execution_count": 5,
   "outputs": [
    {
     "output_type": "stream",
     "name": "stdout",
     "text": [
      "        Date      Open      High       Low     Close  Adj Close      Volume\n0 1986-03-13  0.088542  0.101563  0.088542  0.097222   0.061751  1031788800\n1 1986-03-14  0.097222  0.102431  0.097222  0.100694   0.063956   308160000\n2 1986-03-17  0.100694  0.103299  0.100694  0.102431   0.065059   133171200\n3 1986-03-18  0.102431  0.103299  0.098958  0.099826   0.063405    67766400\n4 1986-03-19  0.099826  0.100694  0.097222  0.098090   0.062302    47894400\n"
     ]
    }
   ]
  },
  {
   "cell_type": "code",
   "execution_count": 7,
   "metadata": {},
   "outputs": [
    {
     "output_type": "stream",
     "name": "stdout",
     "text": [
      "          ds         y\n0 1986-03-13  0.061751\n1 1986-03-14  0.063956\n2 1986-03-17  0.065059\n3 1986-03-18  0.063405\n4 1986-03-19  0.062302\n"
     ]
    }
   ],
   "source": [
    "prophet_df = df_original[['Date','Adj Close']]\n",
    "prophet_df = prophet_df.rename(columns = {'Date':'ds'})\n",
    "prophet_df = prophet_df.rename(columns = {'Adj Close':'y'})\n",
    "print(prophet_df.head())\n",
    "\n",
    "train_mask = (prophet_df[\"ds\"] < \"2019-01-01\")\n",
    "test_mask = (prophet_df[\"ds\"] >= \"2019-01-01\") & (prophet_df[\"ds\"] < \"2020-01-01\")\n",
    "\n",
    "train_set = prophet_df.loc[train_mask]\n",
    "test_set = prophet_df.loc[test_mask]"
   ]
  },
  {
   "cell_type": "code",
   "execution_count": 12,
   "metadata": {},
   "outputs": [
    {
     "output_type": "stream",
     "name": "stderr",
     "text": [
      "INFO:prophet:Disabling daily seasonality. Run prophet with daily_seasonality=True to override this.\n",
      "INFO:prophet:Making 15 forecasts with cutoffs between 2018-03-19 00:00:00 and 2018-12-24 00:00:00\n",
      "INFO:prophet:Applying in parallel with <concurrent.futures.process.ProcessPoolExecutor object at 0x7f8981147640>\n",
      "INFO:prophet:Disabling daily seasonality. Run prophet with daily_seasonality=True to override this.\n",
      "INFO:prophet:Making 15 forecasts with cutoffs between 2018-03-19 00:00:00 and 2018-12-24 00:00:00\n",
      "INFO:prophet:Applying in parallel with <concurrent.futures.process.ProcessPoolExecutor object at 0x7f8981147640>\n",
      "INFO:prophet:Disabling daily seasonality. Run prophet with daily_seasonality=True to override this.\n",
      "INFO:prophet:Making 15 forecasts with cutoffs between 2018-03-19 00:00:00 and 2018-12-24 00:00:00\n",
      "INFO:prophet:Applying in parallel with <concurrent.futures.process.ProcessPoolExecutor object at 0x7f89383f1700>\n",
      "INFO:prophet:Disabling daily seasonality. Run prophet with daily_seasonality=True to override this.\n",
      "INFO:prophet:Making 15 forecasts with cutoffs between 2018-03-19 00:00:00 and 2018-12-24 00:00:00\n",
      "INFO:prophet:Applying in parallel with <concurrent.futures.process.ProcessPoolExecutor object at 0x7f8935ab6f10>\n",
      "INFO:prophet:Disabling daily seasonality. Run prophet with daily_seasonality=True to override this.\n",
      "INFO:prophet:Making 15 forecasts with cutoffs between 2018-03-19 00:00:00 and 2018-12-24 00:00:00\n",
      "INFO:prophet:Applying in parallel with <concurrent.futures.process.ProcessPoolExecutor object at 0x7f8956c86340>\n",
      "INFO:prophet:Disabling daily seasonality. Run prophet with daily_seasonality=True to override this.\n",
      "INFO:prophet:Making 15 forecasts with cutoffs between 2018-03-19 00:00:00 and 2018-12-24 00:00:00\n",
      "INFO:prophet:Applying in parallel with <concurrent.futures.process.ProcessPoolExecutor object at 0x7f8937c6fca0>\n",
      "INFO:prophet:Disabling daily seasonality. Run prophet with daily_seasonality=True to override this.\n",
      "INFO:prophet:Making 15 forecasts with cutoffs between 2018-03-19 00:00:00 and 2018-12-24 00:00:00\n",
      "INFO:prophet:Applying in parallel with <concurrent.futures.process.ProcessPoolExecutor object at 0x7f8935ad3d60>\n",
      "INFO:prophet:Disabling daily seasonality. Run prophet with daily_seasonality=True to override this.\n",
      "INFO:prophet:Making 15 forecasts with cutoffs between 2018-03-19 00:00:00 and 2018-12-24 00:00:00\n",
      "INFO:prophet:Applying in parallel with <concurrent.futures.process.ProcessPoolExecutor object at 0x7f8935af0d00>\n",
      "INFO:prophet:Disabling daily seasonality. Run prophet with daily_seasonality=True to override this.\n",
      "INFO:prophet:Making 15 forecasts with cutoffs between 2018-03-19 00:00:00 and 2018-12-24 00:00:00\n",
      "INFO:prophet:Applying in parallel with <concurrent.futures.process.ProcessPoolExecutor object at 0x7f8935b28f70>\n",
      "INFO:prophet:Disabling daily seasonality. Run prophet with daily_seasonality=True to override this.\n",
      "INFO:prophet:Making 15 forecasts with cutoffs between 2018-03-19 00:00:00 and 2018-12-24 00:00:00\n",
      "INFO:prophet:Applying in parallel with <concurrent.futures.process.ProcessPoolExecutor object at 0x7f8935afc370>\n",
      "INFO:prophet:Disabling daily seasonality. Run prophet with daily_seasonality=True to override this.\n",
      "INFO:prophet:Making 15 forecasts with cutoffs between 2018-03-19 00:00:00 and 2018-12-24 00:00:00\n",
      "INFO:prophet:Applying in parallel with <concurrent.futures.process.ProcessPoolExecutor object at 0x7f8956c86bb0>\n",
      "INFO:prophet:Disabling daily seasonality. Run prophet with daily_seasonality=True to override this.\n",
      "INFO:prophet:Making 15 forecasts with cutoffs between 2018-03-19 00:00:00 and 2018-12-24 00:00:00\n",
      "INFO:prophet:Applying in parallel with <concurrent.futures.process.ProcessPoolExecutor object at 0x7f8935b41460>\n",
      "INFO:prophet:Disabling daily seasonality. Run prophet with daily_seasonality=True to override this.\n",
      "INFO:prophet:Making 15 forecasts with cutoffs between 2018-03-19 00:00:00 and 2018-12-24 00:00:00\n",
      "INFO:prophet:Applying in parallel with <concurrent.futures.process.ProcessPoolExecutor object at 0x7f8956c86bb0>\n",
      "INFO:prophet:Disabling daily seasonality. Run prophet with daily_seasonality=True to override this.\n",
      "INFO:prophet:Making 15 forecasts with cutoffs between 2018-03-19 00:00:00 and 2018-12-24 00:00:00\n",
      "INFO:prophet:Applying in parallel with <concurrent.futures.process.ProcessPoolExecutor object at 0x7f8980fc12e0>\n",
      "INFO:prophet:Disabling daily seasonality. Run prophet with daily_seasonality=True to override this.\n",
      "INFO:prophet:Making 15 forecasts with cutoffs between 2018-03-19 00:00:00 and 2018-12-24 00:00:00\n",
      "INFO:prophet:Applying in parallel with <concurrent.futures.process.ProcessPoolExecutor object at 0x7f8981147640>\n",
      "INFO:prophet:Disabling daily seasonality. Run prophet with daily_seasonality=True to override this.\n",
      "INFO:prophet:Making 15 forecasts with cutoffs between 2018-03-19 00:00:00 and 2018-12-24 00:00:00\n",
      "INFO:prophet:Applying in parallel with <concurrent.futures.process.ProcessPoolExecutor object at 0x7f8935b41460>\n",
      "    changepoint_prior_scale  seasonality_prior_scale       rmse\n",
      "0                     0.001                     0.01  30.084820\n",
      "1                     0.001                     0.10  29.930169\n",
      "2                     0.001                     1.00  29.896729\n",
      "3                     0.001                    10.00  29.587191\n",
      "4                     0.010                     0.01  21.884126\n",
      "5                     0.010                     0.10  21.898895\n",
      "6                     0.010                     1.00  21.881062\n",
      "7                     0.010                    10.00  21.894713\n",
      "8                     0.100                     0.01  20.791364\n",
      "9                     0.100                     0.10  20.791161\n",
      "10                    0.100                     1.00  20.783948\n",
      "11                    0.100                    10.00  20.789670\n",
      "12                    0.500                     0.01  20.701817\n",
      "13                    0.500                     0.10  20.704109\n",
      "14                    0.500                     1.00  20.701088\n",
      "15                    0.500                    10.00  20.699484\n"
     ]
    }
   ],
   "source": [
    "param_grid = {  \n",
    "    'changepoint_prior_scale': [0.001, 0.01, 0.1, 0.5],\n",
    "    'seasonality_prior_scale': [0.01, 0.1, 1.0, 10.0],\n",
    "}\n",
    "\n",
    "# Generate all combinations of parameters\n",
    "all_params = [dict(zip(param_grid.keys(), v)) for v in itertools.product(*param_grid.values())]\n",
    "rmses = []  # Store the RMSEs for each params here\n",
    "\n",
    "# Use cross validation to evaluate all parameters\n",
    "for params in all_params:\n",
    "    m = Prophet(**params).fit(train_set)  # Fit model with given params\n",
    "    df_cv = cross_validation(m, initial='11680 days', period='20 days', horizon='7 days', parallel=\"processes\")\n",
    "    df_p = performance_metrics(df_cv, rolling_window=1)\n",
    "    rmses.append(df_p['rmse'].values[0])\n",
    "\n",
    "# Find the best parameters\n",
    "tuning_results = pd.DataFrame(all_params)\n",
    "tuning_results['rmse'] = rmses\n",
    "print(tuning_results)"
   ]
  },
  {
   "source": [
    "m = Prophet(seasonality_mode='multiplicative',changepoint_prior_scale=0.5,seasonality_prior_scale=10)\n",
    "m.fit(train_set)\n",
    "df_cv = cross_validation(m, initial='11680 days', period='90 days', horizon = '7 days')\n"
   ],
   "cell_type": "code",
   "metadata": {},
   "execution_count": 8,
   "outputs": [
    {
     "output_type": "stream",
     "name": "stderr",
     "text": [
      "INFO:prophet:Disabling daily seasonality. Run prophet with daily_seasonality=True to override this.\n",
      "INFO:prophet:Making 4 forecasts with cutoffs between 2018-03-29 00:00:00 and 2018-12-24 00:00:00\n"
     ]
    },
    {
     "output_type": "display_data",
     "data": {
      "text/plain": "  0%|          | 0/4 [00:00<?, ?it/s]",
      "application/vnd.jupyter.widget-view+json": {
       "version_major": 2,
       "version_minor": 0,
       "model_id": "d14bb3d87d894acd83d1323ae29f8a71"
      }
     },
     "metadata": {}
    }
   ]
  },
  {
   "cell_type": "code",
   "execution_count": 9,
   "metadata": {},
   "outputs": [
    {
     "output_type": "execute_result",
     "data": {
      "text/plain": [
       "  horizon         mse       rmse        mae      mape     mdape     smape  \\\n",
       "2  3 days  485.486928  22.033768  19.305083  0.179172  0.179172  0.202298   \n",
       "3  4 days  139.549892  11.813124  11.342942  0.127260  0.127260  0.137137   \n",
       "4  5 days  379.930901  19.491816  19.229586  0.209203  0.209203  0.234014   \n",
       "5  6 days  625.960985  25.019212  24.314496  0.242860  0.227109  0.277287   \n",
       "6  7 days  504.003199  22.450016  20.427069  0.201498  0.214433  0.228326   \n",
       "\n",
       "   coverage  \n",
       "2       0.0  \n",
       "3       0.0  \n",
       "4       0.0  \n",
       "5       0.0  \n",
       "6       0.0  "
      ],
      "text/html": "<div>\n<style scoped>\n    .dataframe tbody tr th:only-of-type {\n        vertical-align: middle;\n    }\n\n    .dataframe tbody tr th {\n        vertical-align: top;\n    }\n\n    .dataframe thead th {\n        text-align: right;\n    }\n</style>\n<table border=\"1\" class=\"dataframe\">\n  <thead>\n    <tr style=\"text-align: right;\">\n      <th></th>\n      <th>horizon</th>\n      <th>mse</th>\n      <th>rmse</th>\n      <th>mae</th>\n      <th>mape</th>\n      <th>mdape</th>\n      <th>smape</th>\n      <th>coverage</th>\n    </tr>\n  </thead>\n  <tbody>\n    <tr>\n      <th>2</th>\n      <td>3 days</td>\n      <td>485.486928</td>\n      <td>22.033768</td>\n      <td>19.305083</td>\n      <td>0.179172</td>\n      <td>0.179172</td>\n      <td>0.202298</td>\n      <td>0.0</td>\n    </tr>\n    <tr>\n      <th>3</th>\n      <td>4 days</td>\n      <td>139.549892</td>\n      <td>11.813124</td>\n      <td>11.342942</td>\n      <td>0.127260</td>\n      <td>0.127260</td>\n      <td>0.137137</td>\n      <td>0.0</td>\n    </tr>\n    <tr>\n      <th>4</th>\n      <td>5 days</td>\n      <td>379.930901</td>\n      <td>19.491816</td>\n      <td>19.229586</td>\n      <td>0.209203</td>\n      <td>0.209203</td>\n      <td>0.234014</td>\n      <td>0.0</td>\n    </tr>\n    <tr>\n      <th>5</th>\n      <td>6 days</td>\n      <td>625.960985</td>\n      <td>25.019212</td>\n      <td>24.314496</td>\n      <td>0.242860</td>\n      <td>0.227109</td>\n      <td>0.277287</td>\n      <td>0.0</td>\n    </tr>\n    <tr>\n      <th>6</th>\n      <td>7 days</td>\n      <td>504.003199</td>\n      <td>22.450016</td>\n      <td>20.427069</td>\n      <td>0.201498</td>\n      <td>0.214433</td>\n      <td>0.228326</td>\n      <td>0.0</td>\n    </tr>\n  </tbody>\n</table>\n</div>"
     },
     "metadata": {},
     "execution_count": 9
    }
   ],
   "source": [
    "from prophet.diagnostics import performance_metrics\n",
    "df_cv.head()\n",
    "df_p = performance_metrics(df_cv)\n",
    "df_p.tail()"
   ]
  },
  {
   "cell_type": "code",
   "execution_count": 16,
   "metadata": {},
   "outputs": [
    {
     "output_type": "stream",
     "name": "stdout",
     "text": [
      "          ds       yhat  yhat_lower  yhat_upper\n0 2019-01-01  89.780009   84.500543   95.109402\n1 2019-01-02  89.546778   84.516299   94.597111\n2 2019-01-03  89.662565   84.754267   94.884150\n3 2019-01-04  89.644507   84.473708   94.996413\n4 2019-01-07  89.410696   84.609653   94.699849\n"
     ]
    }
   ],
   "source": [
    "test_dates = m.make_future_dataframe(periods = 7, include_history = False) \n",
    "test_dates = test_dates[test_dates['ds'].dt.weekday<5]\n",
    "forecast = m.predict(test_dates)\n",
    "\n",
    "print(forecast[['ds', 'yhat', 'yhat_lower', 'yhat_upper']].tail())"
   ]
  },
  {
   "cell_type": "code",
   "execution_count": null,
   "metadata": {},
   "outputs": [],
   "source": []
  }
 ]
}